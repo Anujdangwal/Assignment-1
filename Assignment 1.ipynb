{
 "cells": [
  {
   "cell_type": "markdown",
   "id": "387c105c",
   "metadata": {
    "id": "Y6nGfscRT8k7"
   },
   "source": [
    "Q1. Write a program to reverse a given string?"
   ]
  },
  {
   "cell_type": "code",
   "execution_count": 2,
   "id": "ee85d3fb",
   "metadata": {},
   "outputs": [
    {
     "data": {
      "text/plain": [
       "'gfedcba'"
      ]
     },
     "execution_count": 2,
     "metadata": {},
     "output_type": "execute_result"
    }
   ],
   "source": [
    "given_string = \"abcdefg\"\n",
    "given_string[::-1]"
   ]
  },
  {
   "cell_type": "markdown",
   "id": "87a7cb01",
   "metadata": {},
   "source": [
    "Q2. Write a program to count the number of vowels in a given string."
   ]
  },
  {
   "cell_type": "code",
   "execution_count": 3,
   "id": "2d8939c2",
   "metadata": {},
   "outputs": [
    {
     "name": "stdout",
     "output_type": "stream",
     "text": [
      "4\n"
     ]
    }
   ],
   "source": [
    "\n",
    "s = \"bafsiqgicqhfbqi\"\n",
    "\n",
    "count = 0\n",
    "\n",
    "for vowel in s:\n",
    "  if vowel in \"aeiou\":\n",
    "    count += 1\n",
    "print(count)\n",
    "\n"
   ]
  },
  {
   "cell_type": "markdown",
   "id": "0687fd9d",
   "metadata": {},
   "source": [
    "Q3. Write a program to check if a given string is a palindrome."
   ]
  },
  {
   "cell_type": "code",
   "execution_count": 4,
   "id": "570b5fb9",
   "metadata": {},
   "outputs": [
    {
     "name": "stdout",
     "output_type": "stream",
     "text": [
      "True\n"
     ]
    }
   ],
   "source": [
    "\n",
    "s = \"racecar\"\n",
    "is_palindrome = s == s[::-1]\n",
    "print(is_palindrome)"
   ]
  },
  {
   "cell_type": "markdown",
   "id": "413356ae",
   "metadata": {},
   "source": [
    "Q4. Write a program to check if two given strings are anagrams of each other."
   ]
  },
  {
   "cell_type": "code",
   "execution_count": 5,
   "id": "cb53a810",
   "metadata": {},
   "outputs": [
    {
     "name": "stdout",
     "output_type": "stream",
     "text": [
      "True\n"
     ]
    }
   ],
   "source": [
    "\n",
    "s1 = \"listen\"\n",
    "s2 = \"silent\"\n",
    "are_anagrams = sorted(s1) == sorted(s2)\n",
    "print(are_anagrams)"
   ]
  },
  {
   "cell_type": "markdown",
   "id": "aa1e018d",
   "metadata": {},
   "source": [
    "Q5. Write a program to find all occurrences of a given substring within another string."
   ]
  },
  {
   "cell_type": "code",
   "execution_count": 6,
   "id": "2e381f82",
   "metadata": {},
   "outputs": [
    {
     "name": "stdout",
     "output_type": "stream",
     "text": [
      "2\n"
     ]
    }
   ],
   "source": [
    "\n",
    "string = \"pwskills\"\n",
    "sub_string = \"s\"\n",
    "\n",
    "count= 0\n",
    "for i in (string):\n",
    "  if sub_string == i:\n",
    "   count += 1\n",
    "\n",
    "print(count)"
   ]
  },
  {
   "cell_type": "markdown",
   "id": "a8369a35",
   "metadata": {},
   "source": [
    "Q6. Write a program to perform basic string compression using the counts of repeated characters."
   ]
  },
  {
   "cell_type": "code",
   "execution_count": 7,
   "id": "7342a228",
   "metadata": {},
   "outputs": [
    {
     "name": "stdout",
     "output_type": "stream",
     "text": [
      "['j3', 'f2', 'a3', 'n1', 'd1', 'k1', 'l1', 'b2', 's1']\n"
     ]
    }
   ],
   "source": [
    "\n",
    "s = input(\"enter the string here: \")\n",
    "\n",
    "compressed = []\n",
    "count = 1\n",
    "\n",
    "for i in s:\n",
    "  if f\"{i}{s.count(i)}\" in compressed:\n",
    "    count +=1\n",
    "  else:\n",
    "    compressed.append(f\"{i}{s.count(i)}\")\n",
    "\n",
    "print(compressed)"
   ]
  },
  {
   "cell_type": "markdown",
   "id": "6a954968",
   "metadata": {},
   "source": [
    "Q7. Write a program to determine if a string has all unique characters."
   ]
  },
  {
   "cell_type": "code",
   "execution_count": 8,
   "id": "3994f0ed",
   "metadata": {},
   "outputs": [
    {
     "name": "stdout",
     "output_type": "stream",
     "text": [
      "The string has all unique characters.\n"
     ]
    }
   ],
   "source": [
    "\n",
    "string1 = \"abcdefg\"\n",
    "unique = []\n",
    "\n",
    "for i in string1:\n",
    "    if i in unique:\n",
    "        print(\"The string does not have all unique characters.\")\n",
    "        break\n",
    "    else:\n",
    "        unique.append(i)\n",
    "else:\n",
    "    print(\"The string has all unique characters.\")"
   ]
  },
  {
   "cell_type": "markdown",
   "id": "d7a801aa",
   "metadata": {},
   "source": [
    "Q8. Write a program to convert a given string to uppercase or lowercase."
   ]
  },
  {
   "cell_type": "code",
   "execution_count": 9,
   "id": "1bf50fd1",
   "metadata": {},
   "outputs": [
    {
     "name": "stdout",
     "output_type": "stream",
     "text": [
      "ABFSBA\n",
      "abfsba\n"
     ]
    }
   ],
   "source": [
    "\n",
    "string = \"abfsba\"\n",
    "\n",
    "def convert_upper(string):\n",
    "    return string.upper()\n",
    "def convert_lower(string):\n",
    "    return string.lower()\n",
    "\n",
    "print(convert_upper(string))\n",
    "print(convert_lower(string))"
   ]
  },
  {
   "cell_type": "markdown",
   "id": "0ceb2f41",
   "metadata": {},
   "source": [
    "Q9. Write a program to count the number of words in a given string."
   ]
  },
  {
   "cell_type": "code",
   "execution_count": 10,
   "id": "d5b82ddc",
   "metadata": {},
   "outputs": [
    {
     "data": {
      "text/plain": [
       "10"
      ]
     },
     "execution_count": 10,
     "metadata": {},
     "output_type": "execute_result"
    }
   ],
   "source": [
    "\n",
    "string= \"abcdefhijk\"\n",
    "\n",
    "len(string)"
   ]
  },
  {
   "cell_type": "markdown",
   "id": "4c6301b3",
   "metadata": {},
   "source": [
    "Q10. Write a program to concatenate two strings without using the `+` operator."
   ]
  },
  {
   "cell_type": "code",
   "execution_count": 11,
   "id": "9d34c175",
   "metadata": {},
   "outputs": [
    {
     "name": "stdout",
     "output_type": "stream",
     "text": [
      "pwskills\n"
     ]
    }
   ],
   "source": [
    "\n",
    "string1 = \"pw\"\n",
    "string2 = \"skills\"\n",
    "\n",
    "print(f\"{string1}{string2}\")"
   ]
  },
  {
   "cell_type": "markdown",
   "id": "c98ef5ef",
   "metadata": {},
   "source": [
    "Q11. Write a program to remove all occurrences of a specific element from a list."
   ]
  },
  {
   "cell_type": "code",
   "execution_count": 12,
   "id": "029c10fc",
   "metadata": {},
   "outputs": [
    {
     "name": "stdout",
     "output_type": "stream",
     "text": [
      "[1, 4, 3, 4, 6]\n"
     ]
    }
   ],
   "source": [
    "\n",
    "element = [1,2,4,2,3,4,2,6,2]\n",
    "\n",
    "filtered_element = [i for i in element if i != 2]\n",
    "\n",
    "print(filtered_element)"
   ]
  },
  {
   "cell_type": "markdown",
   "id": "97eb9b74",
   "metadata": {},
   "source": [
    "Q12. Implement a code to find the second largest number in a given list of integers."
   ]
  },
  {
   "cell_type": "code",
   "execution_count": 13,
   "id": "c4d74ed8",
   "metadata": {},
   "outputs": [
    {
     "data": {
      "text/plain": [
       "9"
      ]
     },
     "execution_count": 13,
     "metadata": {},
     "output_type": "execute_result"
    }
   ],
   "source": [
    "\n",
    "list = [2,4,6,8,9,4,3,11]\n",
    "\n",
    "list.sort()\n",
    "list[-2]"
   ]
  },
  {
   "cell_type": "markdown",
   "id": "5ce38904",
   "metadata": {},
   "source": [
    "Q13. Create a code to count the occurrences of each element in a list and return a dictionary with elements as keys and their counts as values."
   ]
  },
  {
   "cell_type": "code",
   "execution_count": 14,
   "id": "f67ce914",
   "metadata": {},
   "outputs": [
    {
     "name": "stdout",
     "output_type": "stream",
     "text": [
      "{2: 2, 5: 3, 6: 3, 8: 2}\n"
     ]
    }
   ],
   "source": [
    "\n",
    "list = [2,2,5,5,5,6,6,6,8,8]\n",
    "\n",
    "dict = {}\n",
    "\n",
    "for element in list:\n",
    "    if element in dict:\n",
    "        dict[element] += 1\n",
    "    else:\n",
    "        dict[element] = 1\n",
    "\n",
    "print(dict)\n"
   ]
  },
  {
   "cell_type": "markdown",
   "id": "2dde583b",
   "metadata": {},
   "source": [
    "Q14. Write a code to reverse a list in-place without using any built-in reverse functions."
   ]
  },
  {
   "cell_type": "code",
   "execution_count": 15,
   "id": "81d6cc9f",
   "metadata": {},
   "outputs": [
    {
     "data": {
      "text/plain": [
       "[5, 4, 3, 2, 1]"
      ]
     },
     "execution_count": 15,
     "metadata": {},
     "output_type": "execute_result"
    }
   ],
   "source": [
    "\n",
    "list = [1,2,3,4,5]\n",
    "\n",
    "list[::-1]"
   ]
  },
  {
   "cell_type": "markdown",
   "id": "6a925809",
   "metadata": {},
   "source": [
    "Q15. Implement a code to find and remove duplicates from a list while preserving the original order of elements."
   ]
  },
  {
   "cell_type": "code",
   "execution_count": 16,
   "id": "da8ca1a8",
   "metadata": {},
   "outputs": [
    {
     "name": "stdout",
     "output_type": "stream",
     "text": [
      "[1, 2, 3, 4, 5, 6, 7, 8]\n"
     ]
    }
   ],
   "source": [
    "\n",
    "list = [ 1,2,3,4,4,5,6,7,7,8,8,8]\n",
    "\n",
    "new_list = []\n",
    "\n",
    "for i in list:\n",
    "    if i not in new_list:\n",
    "        new_list.append(i)\n",
    "\n",
    "print(new_list)"
   ]
  },
  {
   "cell_type": "markdown",
   "id": "d0aba81e",
   "metadata": {},
   "source": [
    "Q16. Create a code to check if a given list is sorted (either in ascending or descending order) or not."
   ]
  },
  {
   "cell_type": "code",
   "execution_count": 17,
   "id": "244f2300",
   "metadata": {},
   "outputs": [
    {
     "name": "stdout",
     "output_type": "stream",
     "text": [
      "List is sorted in descending order\n"
     ]
    }
   ],
   "source": [
    "\n",
    "list = [1,2,3,4,5,6,7,8,9]\n",
    "list2 = list[::-1]\n",
    "\n",
    "if list2 == sorted(list2):\n",
    "    print(\"List is sorted in ascending order\")\n",
    "elif list2 == sorted(list2, reverse=True):\n",
    "    print(\"List is sorted in descending order\")\n",
    "else:\n",
    "    print(\"List is not sorted\")"
   ]
  },
  {
   "cell_type": "markdown",
   "id": "8a50e639",
   "metadata": {},
   "source": [
    "Q17. Write a code to merge two sorted lists into a single sorted list."
   ]
  },
  {
   "cell_type": "code",
   "execution_count": 18,
   "id": "daad77af",
   "metadata": {},
   "outputs": [
    {
     "name": "stdout",
     "output_type": "stream",
     "text": [
      "[1, 3, 5, 7, 2, 4, 6, 8]\n",
      "[1, 2, 3, 4, 5, 6, 7, 8]\n"
     ]
    }
   ],
   "source": [
    "\n",
    "list1 = [1,3,5,7]\n",
    "list2 = [2,4,6,8]\n",
    "\n",
    "list3 = list1 + list2\n",
    "print(list3)\n",
    "\n",
    "list3.sort()\n",
    "print(list3)"
   ]
  },
  {
   "cell_type": "markdown",
   "id": "c0d4994b",
   "metadata": {},
   "source": [
    "Q18. Implement a code to find the intersection of two given lists."
   ]
  },
  {
   "cell_type": "code",
   "execution_count": 19,
   "id": "3f124472",
   "metadata": {},
   "outputs": [
    {
     "name": "stdout",
     "output_type": "stream",
     "text": [
      "[2, 3, 1]\n"
     ]
    }
   ],
   "source": [
    "\n",
    "list1 = [2,5,8,3,6,1]\n",
    "\n",
    "list2 = [2,3,1,432,23,12,432]\n",
    "\n",
    "intersect= []\n",
    "\n",
    "for i in list1:\n",
    "  if i in list2:\n",
    "    intersect.append(i)\n",
    "print(intersect)"
   ]
  },
  {
   "cell_type": "markdown",
   "id": "721abf03",
   "metadata": {},
   "source": [
    "Q19. Create a code to find the union of two lists without duplicates."
   ]
  },
  {
   "cell_type": "code",
   "execution_count": 20,
   "id": "66af7d90",
   "metadata": {},
   "outputs": [
    {
     "name": "stdout",
     "output_type": "stream",
     "text": [
      "Union of the two lists without duplicates: [1, 2, 3, 4, 5, 6, 7, 8]\n"
     ]
    }
   ],
   "source": [
    "\n",
    "list1 = [1, 2, 3, 4, 5]\n",
    "list2 = [4, 5, 6, 7, 8]\n",
    "\n",
    "union_list = []\n",
    "\n",
    "for element in list1:\n",
    "    if element not in union_list:\n",
    "        union_list.append(element)\n",
    "\n",
    "for element in list2:\n",
    "    if element not in union_list:\n",
    "        union_list.append(element)\n",
    "\n",
    "print(\"Union of the two lists without duplicates:\", union_list)\n"
   ]
  },
  {
   "cell_type": "markdown",
   "id": "a53f1431",
   "metadata": {},
   "source": [
    "Q20. Write a code to shuffle a given list randomly without using any built-in shuffle functions.\n",
    "Test the function"
   ]
  },
  {
   "cell_type": "code",
   "execution_count": 21,
   "id": "701c83c4",
   "metadata": {},
   "outputs": [
    {
     "name": "stdout",
     "output_type": "stream",
     "text": [
      "[1, 5, 3, 6, 4, 7, 2, 2]\n"
     ]
    }
   ],
   "source": [
    "\n",
    "import random\n",
    "\n",
    "def shuffle_func(arr):\n",
    "    length = len(arr)\n",
    "    for i in range(length):\n",
    "        j = random.randint(0, length - 1)\n",
    "        arr[i], arr[j] = arr[j], arr[i]\n",
    "    return arr\n",
    "\n",
    "shuffled_list = shuffle_func([2, 1, 3, 4, 5, 6, 2, 7])\n",
    "print(shuffled_list)\n"
   ]
  },
  {
   "cell_type": "markdown",
   "id": "7379b98f",
   "metadata": {},
   "source": [
    "Q21. Write a code that takes two tuples as input and returns a new tuple containing elements that are common to both input tuples."
   ]
  },
  {
   "cell_type": "code",
   "execution_count": 22,
   "id": "df2fe6df",
   "metadata": {},
   "outputs": [
    {
     "name": "stdout",
     "output_type": "stream",
     "text": [
      "Common elements tuple: (4, 5)\n"
     ]
    }
   ],
   "source": [
    "\n",
    "tuple1 = (1, 2, 3, 4, 5)\n",
    "tuple2 = (4, 5, 6, 7, 8)\n",
    "\n",
    "common_elements = tuple(set(tuple1) & set(tuple2))\n",
    "\n",
    "print(\"Common elements tuple:\", common_elements)\n",
    "\n"
   ]
  },
  {
   "cell_type": "markdown",
   "id": "ae141d93",
   "metadata": {},
   "source": [
    "Q22. Create a code that prompts the user to enter two sets of integers separated by commas. Then, print the intersection of these two sets."
   ]
  },
  {
   "cell_type": "code",
   "execution_count": 23,
   "id": "c26243aa",
   "metadata": {},
   "outputs": [
    {
     "data": {
      "text/plain": [
       "{'a', 'b', 'f', 'j', 'l', 's'}"
      ]
     },
     "execution_count": 23,
     "metadata": {},
     "output_type": "execute_result"
    }
   ],
   "source": [
    "\n",
    "input1 = set(input(\"enter your first input\"))\n",
    "input2 = set(input(\"enter your second input\"))\n",
    "\n",
    "input1 & input2"
   ]
  },
  {
   "cell_type": "markdown",
   "id": "a8af01e3",
   "metadata": {},
   "source": [
    "Q23. Write a code to concatenate two tuples. The function should take two tuples as input and return a new tuple containing elements from both input tuples."
   ]
  },
  {
   "cell_type": "code",
   "execution_count": 24,
   "id": "9643c142",
   "metadata": {},
   "outputs": [
    {
     "name": "stdout",
     "output_type": "stream",
     "text": [
      "(1, 2, 3, 4, 5, 6)\n"
     ]
    }
   ],
   "source": [
    "def concatenate_tuples(tuple1, tuple2):\n",
    "   concat = tuple1 + tuple2\n",
    "   print(concat)\n",
    "\n",
    "concatenate_tuples((1,2,3),(4,5,6))"
   ]
  },
  {
   "cell_type": "markdown",
   "id": "308d9944",
   "metadata": {},
   "source": [
    "Q24. Develop a code that prompts the user to input two sets of strings. Then, print the elements that are present in the first set but not in the second set."
   ]
  },
  {
   "cell_type": "code",
   "execution_count": 25,
   "id": "0897394e",
   "metadata": {},
   "outputs": [
    {
     "name": "stdout",
     "output_type": "stream",
     "text": [
      "{'o', 'q', 'k'}\n"
     ]
    }
   ],
   "source": [
    "\n",
    "s1 = set(input(\"enter your first string:\"))\n",
    "s2 = set(input(\"enter your second string:\"))\n",
    "\n",
    "s3 = s1 & s2\n",
    "print(str(s1-s3))"
   ]
  },
  {
   "cell_type": "markdown",
   "id": "61eadfd4",
   "metadata": {},
   "source": [
    "Q25. Create a code that takes a tuple and two integers as input. The function should return a new tuple containing elements from the original tuple within the specified range of indices.\n",
    "tuple = tuple(input(\"enter\"))\n",
    "int1 = int(input(\"enter first no:\"))\n",
    "int2 = int(input(\"your seconf number:\"))"
   ]
  },
  {
   "cell_type": "code",
   "execution_count": 26,
   "id": "dbbe8b1f",
   "metadata": {},
   "outputs": [],
   "source": [
    "\n",
    "\n",
    "tuple= (1,2,3)\n",
    "int1 = 4\n",
    "int2 = 8\n",
    "\n",
    "def slicing_tuple(tuple1,range1,range2):\n",
    " new_tuple = tuple1[range1:range2]\n",
    " print(new_tuple)"
   ]
  },
  {
   "cell_type": "code",
   "execution_count": 27,
   "id": "ac651ba2",
   "metadata": {},
   "outputs": [
    {
     "name": "stdout",
     "output_type": "stream",
     "text": [
      "(1, 2, 3, 4, 5, 6, 7, 8, 9)\n"
     ]
    }
   ],
   "source": [
    "slicing_tuple((1,2,3,4,5,6,7,8,9,10),0,9)"
   ]
  },
  {
   "cell_type": "markdown",
   "id": "2af73fc2",
   "metadata": {},
   "source": [
    "Q26. Write a code that prompts the user to input two sets of characters. Then, print the union of these two sets."
   ]
  },
  {
   "cell_type": "code",
   "execution_count": 28,
   "id": "b0420947",
   "metadata": {},
   "outputs": [
    {
     "name": "stdout",
     "output_type": "stream",
     "text": [
      "{1, 2, 3, 4, 5, 7, 8}\n"
     ]
    }
   ],
   "source": [
    "\n",
    "def union_list(s1,s2):\n",
    "  union_list = s1 |s2\n",
    "  print(union_list)\n",
    "\n",
    "union_list({1,2,3,4,5},{3,4,5,7,8})"
   ]
  },
  {
   "cell_type": "markdown",
   "id": "f96dc936",
   "metadata": {},
   "source": [
    "Q27. Develop a code that takes a tuple of integers as input. The function should return the maximum and minimum values from the tuple using tuple unpacking."
   ]
  },
  {
   "cell_type": "code",
   "execution_count": 29,
   "id": "6c1213ca",
   "metadata": {},
   "outputs": [
    {
     "data": {
      "text/plain": [
       "(1, 7)"
      ]
     },
     "execution_count": 29,
     "metadata": {},
     "output_type": "execute_result"
    }
   ],
   "source": [
    "\n",
    "def min_max(tuple):\n",
    "  return min(tuple), max(tuple)\n",
    "\n",
    "\n",
    "min_max((1,2,3,4,5,6,7))\n"
   ]
  },
  {
   "cell_type": "markdown",
   "id": "31127eb7",
   "metadata": {},
   "source": [
    "Q28. Create a code that defines two sets of integers. Then, print the union, intersection, and difference of these two sets."
   ]
  },
  {
   "cell_type": "code",
   "execution_count": 30,
   "id": "72561e85",
   "metadata": {},
   "outputs": [
    {
     "name": "stdout",
     "output_type": "stream",
     "text": [
      "union of your set is:  {1, 2, 3, 4, 7, 8}\n",
      "intersection of your set is:  {3, 4}\n",
      "difference of your set is:  {1, 2, 3, 4}\n"
     ]
    }
   ],
   "source": [
    "\n",
    "def muliple_fnx(s1,s2):\n",
    "  print(f\"union of your set is: \",s1 | s2)\n",
    "  print(f\"intersection of your set is: \",s1 & s2)\n",
    "  print(f\"difference of your set is: \", (s1-s3))\n",
    "\n",
    "\n",
    "muliple_fnx({1,2,3,4},{3,4,7,8})"
   ]
  },
  {
   "cell_type": "markdown",
   "id": "230688cc",
   "metadata": {},
   "source": [
    "Q29. Write a code that takes a tuple and an element as input. The function should return the count of occurrences of the given element in the tuple."
   ]
  },
  {
   "cell_type": "code",
   "execution_count": 31,
   "id": "be5c3d83",
   "metadata": {},
   "outputs": [],
   "source": [
    "\n",
    "def count_occurance(t,e):\n",
    "\n",
    "  count_occurance = []\n",
    "  count = 0\n",
    "\n",
    "  for i in t:\n",
    "    if i in e:\n",
    "      count += 1\n",
    "    else:\n",
    "      pass\n",
    "  count_occurance.append(count)\n",
    "\n",
    "  print(count_occurance)"
   ]
  },
  {
   "cell_type": "code",
   "execution_count": 32,
   "id": "e5c2e39e",
   "metadata": {},
   "outputs": [
    {
     "name": "stdout",
     "output_type": "stream",
     "text": [
      "[5]\n"
     ]
    }
   ],
   "source": [
    "count_occurance((\"absbabajkabaf\"),(\"a\"))"
   ]
  },
  {
   "cell_type": "markdown",
   "id": "5d1846f5",
   "metadata": {},
   "source": [
    "Q30. Develop a code that prompts the user to input two sets of strings. Then, print the symmetric difference of these two sets."
   ]
  },
  {
   "cell_type": "code",
   "execution_count": 33,
   "id": "87be95a8",
   "metadata": {},
   "outputs": [
    {
     "data": {
      "text/plain": [
       "({'d', 'h'}, set())"
      ]
     },
     "execution_count": 33,
     "metadata": {},
     "output_type": "execute_result"
    }
   ],
   "source": [
    "\n",
    "s1 = set(input(\"enter first string: \"))\n",
    "s2 = set(input(\"enter your second string: \"))\n",
    "\n",
    "s3 = s1 & s2\n",
    "s4 = s1-s3 , s2-s3\n",
    "s4"
   ]
  },
  {
   "cell_type": "markdown",
   "id": "eeca8628",
   "metadata": {},
   "source": [
    "Q31. Write a code that takes a list of words as input and returns a dictionary where the keys are unique words and the values are the frequencies of those words in the input list."
   ]
  },
  {
   "cell_type": "code",
   "execution_count": 34,
   "id": "fa84e2e3",
   "metadata": {},
   "outputs": [
    {
     "data": {
      "text/plain": [
       "{'a': 1, 'b': 2, 'c': 3, 'd': 4, 'e': 5}"
      ]
     },
     "execution_count": 34,
     "metadata": {},
     "output_type": "execute_result"
    }
   ],
   "source": [
    "\n",
    "l1 = [\"abbcccddddeeeee\"]\n",
    "\n",
    "dict = {}\n",
    "\n",
    "for i in l1:\n",
    " for word in i:\n",
    "  if word in dict:\n",
    "    dict[word] += 1\n",
    "  else:\n",
    "    dict.update({word : 1})\n",
    "\n",
    "dict"
   ]
  },
  {
   "cell_type": "markdown",
   "id": "376e2834",
   "metadata": {},
   "source": [
    "Q32. Write a code that takes two dictionaries as input and merges them into a single dictionary. If there are common keys, the values should be added together."
   ]
  },
  {
   "cell_type": "code",
   "execution_count": 35,
   "id": "d530f6a5",
   "metadata": {},
   "outputs": [
    {
     "name": "stdout",
     "output_type": "stream",
     "text": [
      "{'apple': 2, 'banana': 6, 'grapes': 3, 'mango': 8}\n"
     ]
    }
   ],
   "source": [
    "\n",
    "def merge_dictionary(dict1,dict2):\n",
    " for key, value in dict2.items():\n",
    "  if key in dict1:\n",
    "    dict1[key] = +value\n",
    "  else:\n",
    "    dict1[key] = value\n",
    "\n",
    " print(dict1)\n",
    "\n",
    "\n",
    "dict1 = {\"apple\": 2, \"banana\":6}\n",
    "dict2 = {\"grapes\":3,\"mango\":8}\n",
    "merge_dictionary({\"apple\": 2, \"banana\":6},{\"grapes\":3,\"mango\":8})"
   ]
  },
  {
   "cell_type": "markdown",
   "id": "4cea7523",
   "metadata": {},
   "source": [
    "Q33. Write a code to access a value in a nested dictionary. The function should take the dictionary and a list of keys as input and return the corresponding value.\n",
    "If any of the keys do not exist in the dictionary, the function should return None."
   ]
  },
  {
   "cell_type": "code",
   "execution_count": 36,
   "id": "f83676bb",
   "metadata": {},
   "outputs": [
    {
     "name": "stdout",
     "output_type": "stream",
     "text": [
      "2\n",
      "3\n"
     ]
    }
   ],
   "source": [
    "def func(d,l):\n",
    "  d1 = d.values()\n",
    "  d2 = {}\n",
    "\n",
    "  for i in d1:\n",
    "    d2.update(i)\n",
    "\n",
    "  for i in d2:\n",
    "    if i in l:\n",
    "      print(d2[i])\n",
    "\n",
    "d = {\n",
    "    'fruit': {\n",
    "        'apple': 2,\n",
    "        'banana': 5\n",
    "    },\n",
    "    'vegetable': {\n",
    "        'carrot': 3,\n",
    "        'broccoli': 4\n",
    "    }\n",
    "}\n",
    "\n",
    "l = [\"apple\",\"carrot\"]\n",
    "\n",
    "func(d,l)"
   ]
  },
  {
   "cell_type": "markdown",
   "id": "2310d461",
   "metadata": {},
   "source": [
    "Q34. Write a code that takes a dictionary as input and returns a sorted version of it based on the values. You can choose whether to sort in ascending or descending order."
   ]
  },
  {
   "cell_type": "code",
   "execution_count": 37,
   "id": "63a05ddf",
   "metadata": {},
   "outputs": [
    {
     "data": {
      "text/plain": [
       "{'apple': 2, 'grapes': 3, 'banana': 6, 'mango': 8}"
      ]
     },
     "execution_count": 37,
     "metadata": {},
     "output_type": "execute_result"
    }
   ],
   "source": [
    "\n",
    "def sort_values(dict):\n",
    "\n",
    "  sorted_values = sorted(dict.values())\n",
    "  sorted_dict = {}\n",
    "\n",
    "  for i in sorted_values:\n",
    "    for j in dict.keys():\n",
    "      if dict[j] == i:\n",
    "       sorted_dict[j] = i\n",
    "  return sorted_dict\n",
    "\n",
    "dict = {\"apple\": 2, \"banana\":6,\"grapes\":3,\"mango\":8}\n",
    "sort_values(dict)"
   ]
  },
  {
   "cell_type": "markdown",
   "id": "f502ebf6",
   "metadata": {},
   "source": [
    "Q35. Write a code that inverts a dictionary, swapping keys and values. Ensure that the inverted dictionary correctly handles cases where multiple keys have the same value by storing the keys as a list in the inverted dictionary."
   ]
  },
  {
   "cell_type": "code",
   "execution_count": 38,
   "id": "e81176e8",
   "metadata": {},
   "outputs": [
    {
     "data": {
      "text/plain": [
       "{2: 'apple', 6: 'banana', 3: 'grapes', 8: 'mango'}"
      ]
     },
     "execution_count": 38,
     "metadata": {},
     "output_type": "execute_result"
    }
   ],
   "source": [
    "\n",
    "dict = {\"apple\": 2, \"banana\":6,\"grapes\":3,\"mango\":8}\n",
    "\n",
    "keys = dict.keys()\n",
    "values = dict.values()\n",
    "\n",
    "inverted_dict= {}\n",
    "for i in keys:\n",
    "  for j in values:\n",
    "    if dict[i] == j:\n",
    "      inverted_dict[j] = i\n",
    "\n",
    "inverted_dict\n"
   ]
  }
 ],
 "metadata": {
  "kernelspec": {
   "display_name": "base",
   "language": "python",
   "name": "python3"
  },
  "language_info": {
   "codemirror_mode": {
    "name": "ipython",
    "version": 3
   },
   "file_extension": ".py",
   "mimetype": "text/x-python",
   "name": "python",
   "nbconvert_exporter": "python",
   "pygments_lexer": "ipython3",
   "version": "3.12.4"
  }
 },
 "nbformat": 4,
 "nbformat_minor": 5
}
